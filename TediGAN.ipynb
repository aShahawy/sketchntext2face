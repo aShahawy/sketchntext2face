{
  "nbformat": 4,
  "nbformat_minor": 0,
  "metadata": {
    "colab": {
      "name": "TediGAN.ipynb",
      "provenance": [],
      "collapsed_sections": [],
      "mount_file_id": "1hJ0AWls1Gs0GFgAP73w6XBK563YKZ1Ls",
      "authorship_tag": "ABX9TyPVDgEB1ST3WVaaV8Oi8q5D",
      "include_colab_link": true
    },
    "kernelspec": {
      "name": "python3",
      "display_name": "Python 3"
    },
    "language_info": {
      "name": "python"
    },
    "accelerator": "GPU"
  },
  "cells": [
    {
      "cell_type": "markdown",
      "metadata": {
        "id": "view-in-github",
        "colab_type": "text"
      },
      "source": [
        "<a href=\"https://colab.research.google.com/github/aShahawy/sketchntext2face/blob/main/TediGAN.ipynb\" target=\"_parent\"><img src=\"https://colab.research.google.com/assets/colab-badge.svg\" alt=\"Open In Colab\"/></a>"
      ]
    },
    {
      "cell_type": "code",
      "execution_count": 2,
      "metadata": {
        "colab": {
          "base_uri": "https://localhost:8080/"
        },
        "id": "EVaKXkBIJ7LR",
        "outputId": "971e3c16-7a69-4900-f2ca-014dc26058cf"
      },
      "outputs": [
        {
          "output_type": "stream",
          "name": "stdout",
          "text": [
            "fatal: destination path 'TediGAN' already exists and is not an empty directory.\n"
          ]
        }
      ],
      "source": [
        "!git clone https://github.com/IIGROUP/TediGAN.git"
      ]
    },
    {
      "cell_type": "code",
      "source": [
        "!pip install -r TediGAN/requirements.txt"
      ],
      "metadata": {
        "colab": {
          "base_uri": "https://localhost:8080/"
        },
        "id": "7AZMkIndKGFD",
        "outputId": "730ce3d5-9057-4918-8e71-3a9644426079"
      },
      "execution_count": 1,
      "outputs": [
        {
          "output_type": "stream",
          "name": "stdout",
          "text": [
            "Collecting git+https://github.com/openai/CLIP.git (from -r TediGAN/requirements.txt (line 24))\n",
            "  Cloning https://github.com/openai/CLIP.git to /tmp/pip-req-build-r2ca68i9\n",
            "  Running command git clone -q https://github.com/openai/CLIP.git /tmp/pip-req-build-r2ca68i9\n",
            "Requirement already satisfied: torch==1.7.1 in /usr/local/lib/python3.7/dist-packages (from -r TediGAN/requirements.txt (line 1)) (1.7.1)\n",
            "Requirement already satisfied: tqdm==4.42.1 in /usr/local/lib/python3.7/dist-packages (from -r TediGAN/requirements.txt (line 2)) (4.42.1)\n",
            "Requirement already satisfied: numpy==1.18.1 in /usr/local/lib/python3.7/dist-packages (from -r TediGAN/requirements.txt (line 3)) (1.18.1)\n",
            "Requirement already satisfied: requests==2.22.0 in /usr/local/lib/python3.7/dist-packages (from -r TediGAN/requirements.txt (line 4)) (2.22.0)\n",
            "Requirement already satisfied: pandas==1.0.1 in /usr/local/lib/python3.7/dist-packages (from -r TediGAN/requirements.txt (line 5)) (1.0.1)\n",
            "Requirement already satisfied: nltk==3.4.5 in /usr/local/lib/python3.7/dist-packages (from -r TediGAN/requirements.txt (line 6)) (3.4.5)\n",
            "Requirement already satisfied: six==1.14.0 in /usr/local/lib/python3.7/dist-packages (from -r TediGAN/requirements.txt (line 7)) (1.14.0)\n",
            "Requirement already satisfied: scikit_image==0.16.2 in /usr/local/lib/python3.7/dist-packages (from -r TediGAN/requirements.txt (line 8)) (0.16.2)\n",
            "Requirement already satisfied: opencv_python==3.4.9.33 in /usr/local/lib/python3.7/dist-packages (from -r TediGAN/requirements.txt (line 9)) (3.4.9.33)\n",
            "Requirement already satisfied: torchvision==0.8.2 in /usr/local/lib/python3.7/dist-packages (from -r TediGAN/requirements.txt (line 10)) (0.8.2)\n",
            "Requirement already satisfied: dominate==2.5.1 in /usr/local/lib/python3.7/dist-packages (from -r TediGAN/requirements.txt (line 12)) (2.5.1)\n",
            "Requirement already satisfied: matplotlib==3.1.3 in /usr/local/lib/python3.7/dist-packages (from -r TediGAN/requirements.txt (line 13)) (3.1.3)\n",
            "Requirement already satisfied: visdom==0.1.8.9 in /usr/local/lib/python3.7/dist-packages (from -r TediGAN/requirements.txt (line 14)) (0.1.8.9)\n",
            "Requirement already satisfied: pytorch_pretrained_bert==0.6.2 in /usr/local/lib/python3.7/dist-packages (from -r TediGAN/requirements.txt (line 15)) (0.6.2)\n",
            "Requirement already satisfied: lmdb==1.0.0 in /usr/local/lib/python3.7/dist-packages (from -r TediGAN/requirements.txt (line 16)) (1.0.0)\n",
            "Requirement already satisfied: scipy==1.4.1 in /usr/local/lib/python3.7/dist-packages (from -r TediGAN/requirements.txt (line 17)) (1.4.1)\n",
            "Requirement already satisfied: ipython==7.21.0 in /usr/local/lib/python3.7/dist-packages (from -r TediGAN/requirements.txt (line 18)) (7.21.0)\n",
            "Requirement already satisfied: Pillow==8.1.0 in /usr/local/lib/python3.7/dist-packages (from -r TediGAN/requirements.txt (line 19)) (8.1.0)\n",
            "Requirement already satisfied: python_dateutil==2.8.1 in /usr/local/lib/python3.7/dist-packages (from -r TediGAN/requirements.txt (line 20)) (2.8.1)\n",
            "Requirement already satisfied: rawpy==0.16.0 in /usr/local/lib/python3.7/dist-packages (from -r TediGAN/requirements.txt (line 21)) (0.16.0)\n",
            "Requirement already satisfied: tensorboardX==2.1 in /usr/local/lib/python3.7/dist-packages (from -r TediGAN/requirements.txt (line 22)) (2.1)\n",
            "Requirement already satisfied: streamlit in /usr/local/lib/python3.7/dist-packages (from -r TediGAN/requirements.txt (line 23)) (1.7.0)\n",
            "Requirement already satisfied: ftfy in /usr/local/lib/python3.7/dist-packages (from clip==1.0->-r TediGAN/requirements.txt (line 24)) (6.1.1)\n",
            "Requirement already satisfied: regex in /usr/local/lib/python3.7/dist-packages (from clip==1.0->-r TediGAN/requirements.txt (line 24)) (2019.12.20)\n",
            "Requirement already satisfied: typing-extensions in /usr/local/lib/python3.7/dist-packages (from torch==1.7.1->-r TediGAN/requirements.txt (line 1)) (3.10.0.2)\n",
            "Requirement already satisfied: urllib3!=1.25.0,!=1.25.1,<1.26,>=1.21.1 in /usr/local/lib/python3.7/dist-packages (from requests==2.22.0->-r TediGAN/requirements.txt (line 4)) (1.25.11)\n",
            "Requirement already satisfied: certifi>=2017.4.17 in /usr/local/lib/python3.7/dist-packages (from requests==2.22.0->-r TediGAN/requirements.txt (line 4)) (2021.10.8)\n",
            "Requirement already satisfied: idna<2.9,>=2.5 in /usr/local/lib/python3.7/dist-packages (from requests==2.22.0->-r TediGAN/requirements.txt (line 4)) (2.8)\n",
            "Requirement already satisfied: chardet<3.1.0,>=3.0.2 in /usr/local/lib/python3.7/dist-packages (from requests==2.22.0->-r TediGAN/requirements.txt (line 4)) (3.0.4)\n",
            "Requirement already satisfied: pytz>=2017.2 in /usr/local/lib/python3.7/dist-packages (from pandas==1.0.1->-r TediGAN/requirements.txt (line 5)) (2018.9)\n",
            "Requirement already satisfied: imageio>=2.3.0 in /usr/local/lib/python3.7/dist-packages (from scikit_image==0.16.2->-r TediGAN/requirements.txt (line 8)) (2.4.1)\n",
            "Requirement already satisfied: PyWavelets>=0.4.0 in /usr/local/lib/python3.7/dist-packages (from scikit_image==0.16.2->-r TediGAN/requirements.txt (line 8)) (1.2.0)\n",
            "Requirement already satisfied: networkx>=2.0 in /usr/local/lib/python3.7/dist-packages (from scikit_image==0.16.2->-r TediGAN/requirements.txt (line 8)) (2.6.3)\n",
            "Requirement already satisfied: cycler>=0.10 in /usr/local/lib/python3.7/dist-packages (from matplotlib==3.1.3->-r TediGAN/requirements.txt (line 13)) (0.11.0)\n",
            "Requirement already satisfied: kiwisolver>=1.0.1 in /usr/local/lib/python3.7/dist-packages (from matplotlib==3.1.3->-r TediGAN/requirements.txt (line 13)) (1.3.2)\n",
            "Requirement already satisfied: pyparsing!=2.0.4,!=2.1.2,!=2.1.6,>=2.0.1 in /usr/local/lib/python3.7/dist-packages (from matplotlib==3.1.3->-r TediGAN/requirements.txt (line 13)) (3.0.7)\n",
            "Requirement already satisfied: jsonpatch in /usr/local/lib/python3.7/dist-packages (from visdom==0.1.8.9->-r TediGAN/requirements.txt (line 14)) (1.32)\n",
            "Requirement already satisfied: tornado in /usr/local/lib/python3.7/dist-packages (from visdom==0.1.8.9->-r TediGAN/requirements.txt (line 14)) (5.1.1)\n",
            "Requirement already satisfied: pyzmq in /usr/local/lib/python3.7/dist-packages (from visdom==0.1.8.9->-r TediGAN/requirements.txt (line 14)) (22.3.0)\n",
            "Requirement already satisfied: websocket-client in /usr/local/lib/python3.7/dist-packages (from visdom==0.1.8.9->-r TediGAN/requirements.txt (line 14)) (1.3.1)\n",
            "Requirement already satisfied: torchfile in /usr/local/lib/python3.7/dist-packages (from visdom==0.1.8.9->-r TediGAN/requirements.txt (line 14)) (0.1.0)\n",
            "Requirement already satisfied: boto3 in /usr/local/lib/python3.7/dist-packages (from pytorch_pretrained_bert==0.6.2->-r TediGAN/requirements.txt (line 15)) (1.21.11)\n",
            "Requirement already satisfied: decorator in /usr/local/lib/python3.7/dist-packages (from ipython==7.21.0->-r TediGAN/requirements.txt (line 18)) (4.4.2)\n",
            "Requirement already satisfied: prompt-toolkit!=3.0.0,!=3.0.1,<3.1.0,>=2.0.0 in /usr/local/lib/python3.7/dist-packages (from ipython==7.21.0->-r TediGAN/requirements.txt (line 18)) (3.0.28)\n",
            "Requirement already satisfied: pexpect>4.3 in /usr/local/lib/python3.7/dist-packages (from ipython==7.21.0->-r TediGAN/requirements.txt (line 18)) (4.8.0)\n",
            "Requirement already satisfied: traitlets>=4.2 in /usr/local/lib/python3.7/dist-packages (from ipython==7.21.0->-r TediGAN/requirements.txt (line 18)) (5.1.1)\n",
            "Requirement already satisfied: pickleshare in /usr/local/lib/python3.7/dist-packages (from ipython==7.21.0->-r TediGAN/requirements.txt (line 18)) (0.7.5)\n",
            "Requirement already satisfied: jedi>=0.16 in /usr/local/lib/python3.7/dist-packages (from ipython==7.21.0->-r TediGAN/requirements.txt (line 18)) (0.18.1)\n",
            "Requirement already satisfied: pygments in /usr/local/lib/python3.7/dist-packages (from ipython==7.21.0->-r TediGAN/requirements.txt (line 18)) (2.6.1)\n",
            "Requirement already satisfied: backcall in /usr/local/lib/python3.7/dist-packages (from ipython==7.21.0->-r TediGAN/requirements.txt (line 18)) (0.2.0)\n",
            "Requirement already satisfied: setuptools>=18.5 in /usr/local/lib/python3.7/dist-packages (from ipython==7.21.0->-r TediGAN/requirements.txt (line 18)) (57.4.0)\n",
            "Requirement already satisfied: protobuf>=3.8.0 in /usr/local/lib/python3.7/dist-packages (from tensorboardX==2.1->-r TediGAN/requirements.txt (line 22)) (3.17.3)\n",
            "Requirement already satisfied: parso<0.9.0,>=0.8.0 in /usr/local/lib/python3.7/dist-packages (from jedi>=0.16->ipython==7.21.0->-r TediGAN/requirements.txt (line 18)) (0.8.3)\n",
            "Requirement already satisfied: ptyprocess>=0.5 in /usr/local/lib/python3.7/dist-packages (from pexpect>4.3->ipython==7.21.0->-r TediGAN/requirements.txt (line 18)) (0.7.0)\n",
            "Requirement already satisfied: wcwidth in /usr/local/lib/python3.7/dist-packages (from prompt-toolkit!=3.0.0,!=3.0.1,<3.1.0,>=2.0.0->ipython==7.21.0->-r TediGAN/requirements.txt (line 18)) (0.2.5)\n",
            "Requirement already satisfied: tzlocal in /usr/local/lib/python3.7/dist-packages (from streamlit->-r TediGAN/requirements.txt (line 23)) (1.5.1)\n",
            "Requirement already satisfied: gitpython!=3.1.19 in /usr/local/lib/python3.7/dist-packages (from streamlit->-r TediGAN/requirements.txt (line 23)) (3.1.27)\n",
            "Requirement already satisfied: blinker in /usr/local/lib/python3.7/dist-packages (from streamlit->-r TediGAN/requirements.txt (line 23)) (1.4)\n",
            "Requirement already satisfied: cachetools>=4.0 in /usr/local/lib/python3.7/dist-packages (from streamlit->-r TediGAN/requirements.txt (line 23)) (4.2.4)\n",
            "Requirement already satisfied: attrs in /usr/local/lib/python3.7/dist-packages (from streamlit->-r TediGAN/requirements.txt (line 23)) (21.4.0)\n",
            "Requirement already satisfied: validators in /usr/local/lib/python3.7/dist-packages (from streamlit->-r TediGAN/requirements.txt (line 23)) (0.18.2)\n",
            "Requirement already satisfied: importlib-metadata>=1.4 in /usr/local/lib/python3.7/dist-packages (from streamlit->-r TediGAN/requirements.txt (line 23)) (4.11.2)\n",
            "Requirement already satisfied: altair>=3.2.0 in /usr/local/lib/python3.7/dist-packages (from streamlit->-r TediGAN/requirements.txt (line 23)) (4.2.0)\n",
            "Requirement already satisfied: base58 in /usr/local/lib/python3.7/dist-packages (from streamlit->-r TediGAN/requirements.txt (line 23)) (2.1.1)\n",
            "Requirement already satisfied: watchdog in /usr/local/lib/python3.7/dist-packages (from streamlit->-r TediGAN/requirements.txt (line 23)) (2.1.6)\n",
            "Requirement already satisfied: pydeck>=0.1.dev5 in /usr/local/lib/python3.7/dist-packages (from streamlit->-r TediGAN/requirements.txt (line 23)) (0.7.1)\n",
            "Requirement already satisfied: toml in /usr/local/lib/python3.7/dist-packages (from streamlit->-r TediGAN/requirements.txt (line 23)) (0.10.2)\n",
            "Requirement already satisfied: pympler>=0.9 in /usr/local/lib/python3.7/dist-packages (from streamlit->-r TediGAN/requirements.txt (line 23)) (1.0.1)\n",
            "Requirement already satisfied: click>=7.0 in /usr/local/lib/python3.7/dist-packages (from streamlit->-r TediGAN/requirements.txt (line 23)) (7.1.2)\n",
            "Requirement already satisfied: pyarrow in /usr/local/lib/python3.7/dist-packages (from streamlit->-r TediGAN/requirements.txt (line 23)) (6.0.1)\n",
            "Requirement already satisfied: packaging in /usr/local/lib/python3.7/dist-packages (from streamlit->-r TediGAN/requirements.txt (line 23)) (21.3)\n",
            "Requirement already satisfied: semver in /usr/local/lib/python3.7/dist-packages (from streamlit->-r TediGAN/requirements.txt (line 23)) (2.13.0)\n",
            "Requirement already satisfied: astor in /usr/local/lib/python3.7/dist-packages (from streamlit->-r TediGAN/requirements.txt (line 23)) (0.8.1)\n",
            "Requirement already satisfied: toolz in /usr/local/lib/python3.7/dist-packages (from altair>=3.2.0->streamlit->-r TediGAN/requirements.txt (line 23)) (0.11.2)\n",
            "Requirement already satisfied: jsonschema>=3.0 in /usr/local/lib/python3.7/dist-packages (from altair>=3.2.0->streamlit->-r TediGAN/requirements.txt (line 23)) (4.3.3)\n",
            "Requirement already satisfied: entrypoints in /usr/local/lib/python3.7/dist-packages (from altair>=3.2.0->streamlit->-r TediGAN/requirements.txt (line 23)) (0.4)\n",
            "Requirement already satisfied: jinja2 in /usr/local/lib/python3.7/dist-packages (from altair>=3.2.0->streamlit->-r TediGAN/requirements.txt (line 23)) (2.11.3)\n",
            "Requirement already satisfied: gitdb<5,>=4.0.1 in /usr/local/lib/python3.7/dist-packages (from gitpython!=3.1.19->streamlit->-r TediGAN/requirements.txt (line 23)) (4.0.9)\n",
            "Requirement already satisfied: smmap<6,>=3.0.1 in /usr/local/lib/python3.7/dist-packages (from gitdb<5,>=4.0.1->gitpython!=3.1.19->streamlit->-r TediGAN/requirements.txt (line 23)) (5.0.0)\n",
            "Requirement already satisfied: zipp>=0.5 in /usr/local/lib/python3.7/dist-packages (from importlib-metadata>=1.4->streamlit->-r TediGAN/requirements.txt (line 23)) (3.7.0)\n",
            "Requirement already satisfied: importlib-resources>=1.4.0 in /usr/local/lib/python3.7/dist-packages (from jsonschema>=3.0->altair>=3.2.0->streamlit->-r TediGAN/requirements.txt (line 23)) (5.4.0)\n",
            "Requirement already satisfied: pyrsistent!=0.17.0,!=0.17.1,!=0.17.2,>=0.14.0 in /usr/local/lib/python3.7/dist-packages (from jsonschema>=3.0->altair>=3.2.0->streamlit->-r TediGAN/requirements.txt (line 23)) (0.18.1)\n",
            "Requirement already satisfied: ipywidgets>=7.0.0 in /usr/local/lib/python3.7/dist-packages (from pydeck>=0.1.dev5->streamlit->-r TediGAN/requirements.txt (line 23)) (7.6.5)\n",
            "Requirement already satisfied: ipykernel>=5.1.2 in /usr/local/lib/python3.7/dist-packages (from pydeck>=0.1.dev5->streamlit->-r TediGAN/requirements.txt (line 23)) (5.5.6)\n",
            "Requirement already satisfied: jupyter-client in /usr/local/lib/python3.7/dist-packages (from ipykernel>=5.1.2->pydeck>=0.1.dev5->streamlit->-r TediGAN/requirements.txt (line 23)) (5.3.5)\n",
            "Requirement already satisfied: ipython-genutils in /usr/local/lib/python3.7/dist-packages (from ipykernel>=5.1.2->pydeck>=0.1.dev5->streamlit->-r TediGAN/requirements.txt (line 23)) (0.2.0)\n",
            "Requirement already satisfied: nbformat>=4.2.0 in /usr/local/lib/python3.7/dist-packages (from ipywidgets>=7.0.0->pydeck>=0.1.dev5->streamlit->-r TediGAN/requirements.txt (line 23)) (5.1.3)\n",
            "Requirement already satisfied: widgetsnbextension~=3.5.0 in /usr/local/lib/python3.7/dist-packages (from ipywidgets>=7.0.0->pydeck>=0.1.dev5->streamlit->-r TediGAN/requirements.txt (line 23)) (3.5.2)\n",
            "Requirement already satisfied: jupyterlab-widgets>=1.0.0 in /usr/local/lib/python3.7/dist-packages (from ipywidgets>=7.0.0->pydeck>=0.1.dev5->streamlit->-r TediGAN/requirements.txt (line 23)) (1.0.2)\n",
            "Requirement already satisfied: MarkupSafe>=0.23 in /usr/local/lib/python3.7/dist-packages (from jinja2->altair>=3.2.0->streamlit->-r TediGAN/requirements.txt (line 23)) (2.0.1)\n",
            "Requirement already satisfied: jupyter-core in /usr/local/lib/python3.7/dist-packages (from nbformat>=4.2.0->ipywidgets>=7.0.0->pydeck>=0.1.dev5->streamlit->-r TediGAN/requirements.txt (line 23)) (4.9.2)\n",
            "Requirement already satisfied: notebook>=4.4.1 in /usr/local/lib/python3.7/dist-packages (from widgetsnbextension~=3.5.0->ipywidgets>=7.0.0->pydeck>=0.1.dev5->streamlit->-r TediGAN/requirements.txt (line 23)) (5.3.1)\n",
            "Requirement already satisfied: Send2Trash in /usr/local/lib/python3.7/dist-packages (from notebook>=4.4.1->widgetsnbextension~=3.5.0->ipywidgets>=7.0.0->pydeck>=0.1.dev5->streamlit->-r TediGAN/requirements.txt (line 23)) (1.8.0)\n",
            "Requirement already satisfied: terminado>=0.8.1 in /usr/local/lib/python3.7/dist-packages (from notebook>=4.4.1->widgetsnbextension~=3.5.0->ipywidgets>=7.0.0->pydeck>=0.1.dev5->streamlit->-r TediGAN/requirements.txt (line 23)) (0.13.1)\n",
            "Requirement already satisfied: nbconvert in /usr/local/lib/python3.7/dist-packages (from notebook>=4.4.1->widgetsnbextension~=3.5.0->ipywidgets>=7.0.0->pydeck>=0.1.dev5->streamlit->-r TediGAN/requirements.txt (line 23)) (5.6.1)\n",
            "Requirement already satisfied: jmespath<1.0.0,>=0.7.1 in /usr/local/lib/python3.7/dist-packages (from boto3->pytorch_pretrained_bert==0.6.2->-r TediGAN/requirements.txt (line 15)) (0.10.0)\n",
            "Requirement already satisfied: s3transfer<0.6.0,>=0.5.0 in /usr/local/lib/python3.7/dist-packages (from boto3->pytorch_pretrained_bert==0.6.2->-r TediGAN/requirements.txt (line 15)) (0.5.2)\n",
            "Requirement already satisfied: botocore<1.25.0,>=1.24.11 in /usr/local/lib/python3.7/dist-packages (from boto3->pytorch_pretrained_bert==0.6.2->-r TediGAN/requirements.txt (line 15)) (1.24.11)\n",
            "Requirement already satisfied: jsonpointer>=1.9 in /usr/local/lib/python3.7/dist-packages (from jsonpatch->visdom==0.1.8.9->-r TediGAN/requirements.txt (line 14)) (2.2)\n",
            "Requirement already satisfied: bleach in /usr/local/lib/python3.7/dist-packages (from nbconvert->notebook>=4.4.1->widgetsnbextension~=3.5.0->ipywidgets>=7.0.0->pydeck>=0.1.dev5->streamlit->-r TediGAN/requirements.txt (line 23)) (4.1.0)\n",
            "Requirement already satisfied: testpath in /usr/local/lib/python3.7/dist-packages (from nbconvert->notebook>=4.4.1->widgetsnbextension~=3.5.0->ipywidgets>=7.0.0->pydeck>=0.1.dev5->streamlit->-r TediGAN/requirements.txt (line 23)) (0.6.0)\n",
            "Requirement already satisfied: defusedxml in /usr/local/lib/python3.7/dist-packages (from nbconvert->notebook>=4.4.1->widgetsnbextension~=3.5.0->ipywidgets>=7.0.0->pydeck>=0.1.dev5->streamlit->-r TediGAN/requirements.txt (line 23)) (0.7.1)\n",
            "Requirement already satisfied: pandocfilters>=1.4.1 in /usr/local/lib/python3.7/dist-packages (from nbconvert->notebook>=4.4.1->widgetsnbextension~=3.5.0->ipywidgets>=7.0.0->pydeck>=0.1.dev5->streamlit->-r TediGAN/requirements.txt (line 23)) (1.5.0)\n",
            "Requirement already satisfied: mistune<2,>=0.8.1 in /usr/local/lib/python3.7/dist-packages (from nbconvert->notebook>=4.4.1->widgetsnbextension~=3.5.0->ipywidgets>=7.0.0->pydeck>=0.1.dev5->streamlit->-r TediGAN/requirements.txt (line 23)) (0.8.4)\n",
            "Requirement already satisfied: webencodings in /usr/local/lib/python3.7/dist-packages (from bleach->nbconvert->notebook>=4.4.1->widgetsnbextension~=3.5.0->ipywidgets>=7.0.0->pydeck>=0.1.dev5->streamlit->-r TediGAN/requirements.txt (line 23)) (0.5.1)\n"
          ]
        }
      ]
    },
    {
      "cell_type": "code",
      "source": [
        "# # Import PyDrive and associated libraries.\n",
        "# # This only needs to be done once per notebook.\n",
        "# from pydrive.auth import GoogleAuth\n",
        "# from pydrive.drive import GoogleDrive\n",
        "# from google.colab import auth\n",
        "# from oauth2client.client import GoogleCredentials\n",
        "\n",
        "# # Authenticate and create the PyDrive client.\n",
        "# # This only needs to be done once per notebook.\n",
        "# auth.authenticate_user()\n",
        "# gauth = GoogleAuth()\n",
        "# gauth.credentials = GoogleCredentials.get_application_default()\n",
        "# drive = GoogleDrive(gauth)\n",
        "\n",
        "# # Download a file based on its file ID.\n",
        "# #\n",
        "# # A file ID looks like: laggVyWshwcyP6kEI-y_W3P8D26sz\n",
        "# file_id = '1gij7xy05crnyA-tUTQ2F3yYlAlu6p9bO'\n",
        "# downloaded = drive.CreateFile({'id': file_id})"
      ],
      "metadata": {
        "id": "cbpqu6SDM1nB"
      },
      "execution_count": 3,
      "outputs": []
    },
    {
      "cell_type": "code",
      "source": [
        "# from google.colab import drive\n",
        "# drive.mount('/content/drive')"
      ],
      "metadata": {
        "id": "96OWv_QHN-HO"
      },
      "execution_count": 4,
      "outputs": []
    },
    {
      "cell_type": "code",
      "source": [
        "# file_id = '1SjWD4slw612z2cXa3-n38JwKZXqDUerG'\n",
        "# downloaded = drive.CreateFile({'id': file_id})"
      ],
      "metadata": {
        "id": "ORu49Kt1NWlt"
      },
      "execution_count": 5,
      "outputs": []
    },
    {
      "cell_type": "code",
      "source": [
        "!python TediGAN/base/invert.py --mode='man' --image_path='TediGAN/base/examples/142.jpg' --description='he is old' --loss_weight_clip='1.0' --num_iterations=200   "
      ],
      "metadata": {
        "colab": {
          "base_uri": "https://localhost:8080/"
        },
        "id": "H0DtpLJZPwZZ",
        "outputId": "0acab142-c014-4504-b11d-e89aa400a253"
      },
      "execution_count": 4,
      "outputs": [
        {
          "output_type": "stream",
          "name": "stdout",
          "text": [
            "[2022-03-03 19:38:59,795][INFO] Build network for module `generator` in model `styleganinv_ffhq256`.\n",
            "[2022-03-03 19:39:00,066][INFO] Loading pytorch weights from `TediGAN/base/models/pretrain/styleganinv_ffhq256_generator.pth`.\n",
            "[2022-03-03 19:39:00,391][INFO] Successfully loaded!\n",
            "[2022-03-03 19:39:00,437][INFO] Current `lod` is 0.0.\n",
            "[2022-03-03 19:39:00,437][INFO] Build network for module `encoder` in model `styleganinv_ffhq256`.\n",
            "[2022-03-03 19:39:01,969][INFO] Loading pytorch weights from `TediGAN/base/models/pretrain/styleganinv_ffhq256_encoder.pth`.\n",
            "[2022-03-03 19:39:04,185][INFO] Successfully loaded!\n",
            "loss_pix: 0.016, loss_feat: 1587.580, loss_reg: 0.014, loss_clip: 0.690, loss: 0.814: 100% 200/200 [02:20<00:00,  1.43it/s]\n",
            "save 142 in results/inversion/test\n"
          ]
        }
      ]
    }
  ]
}