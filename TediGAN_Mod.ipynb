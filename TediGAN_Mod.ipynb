{
  "nbformat": 4,
  "nbformat_minor": 0,
  "metadata": {
    "colab": {
      "name": "TediGAN.ipynb",
      "provenance": [],
      "collapsed_sections": [],
      "mount_file_id": "https://github.com/aShahawy/sketchntext2face/blob/main/TediGAN.ipynb",
      "authorship_tag": "ABX9TyNsEoOIwx/z5S5oEuuxC6IY",
      "include_colab_link": true
    },
    "kernelspec": {
      "name": "python3",
      "display_name": "Python 3"
    },
    "language_info": {
      "name": "python"
    },
    "accelerator": "GPU"
  },
  "cells": [
    {
      "cell_type": "markdown",
      "metadata": {
        "id": "view-in-github",
        "colab_type": "text"
      },
      "source": [
        "<a href=\"https://colab.research.google.com/github/aShahawy/sketchntext2face/blob/main/TediGAN_Mod.ipynb\" target=\"_parent\"><img src=\"https://colab.research.google.com/assets/colab-badge.svg\" alt=\"Open In Colab\"/></a>"
      ]
    },
    {
      "cell_type": "code",
      "execution_count": null,
      "metadata": {
        "id": "EVaKXkBIJ7LR"
      },
      "outputs": [],
      "source": [
        "!git clone https://github.com/IIGROUP/TediGAN.git\n",
        "import os\n",
        "os.chdir('/content/TediGAN/base/models/pretrain')\n",
        "MODEL_DIR = os.path.realpath(\".\")\n",
        "print(MODEL_DIR)\n",
        "!wget https://mycuhk-my.sharepoint.com/:u:/g/personal/1155082926_link_cuhk_edu_hk/EXqix_JIEgtLl1FXI4uCkr8B5GPaiJyiLXL6cFbdcIKqEA?e=WYesel\\&download\\=1 -O $MODEL_DIR/styleganinv_ffhq256_encoder.pth\n",
        "!wget https://mycuhk-my.sharepoint.com/:u:/g/personal/1155082926_link_cuhk_edu_hk/EbuzMQ3ZLl1AqvKJzeeBq7IBoQD-C1LfMIC8USlmOMPt3Q?e=CMXn8W\\&download\\=1 -O $MODEL_DIR/styleganinv_ffhq256_generator.pth\n",
        "!wget https://mycuhk-my.sharepoint.com/:u:/g/personal/1155082926_link_cuhk_edu_hk/EQJUz9DInbxEnp0aomkGGzAB5b3ZZbtsOA-TXct9E4ONqA?e=smtO0T\\&download\\=1 -O $MODEL_DIR/vgg16.pth\n"
      ]
    },
    {
      "cell_type": "code",
      "source": [
        "!pip install -r TediGAN/requirements.txt"
      ],
      "metadata": {
        "id": "7AZMkIndKGFD"
      },
      "execution_count": null,
      "outputs": []
    },
    {
      "cell_type": "code",
      "source": [
        "!python /content/TediGAN/base/invert.py --mode='man' --image_path='/content/TediGAN/base/examples/142.jpg' --description='he is old' --loss_weight_clip='1.0' --num_iterations=200   "
      ],
      "metadata": {
        "colab": {
          "base_uri": "https://localhost:8080/"
        },
        "id": "H0DtpLJZPwZZ",
        "outputId": "8f363a5a-db45-45fb-f71e-74f24cbf601d"
      },
      "execution_count": 2,
      "outputs": [
        {
          "output_type": "stream",
          "name": "stdout",
          "text": [
            "[2022-03-04 23:46:22,310][INFO] Build network for module `generator` in model `styleganinv_ffhq256`.\n",
            "[2022-03-04 23:46:22,559][INFO] Loading pytorch weights from `TediGAN/base/models/pretrain/styleganinv_ffhq256_generator.pth`.\n",
            "[2022-03-04 23:46:22,872][INFO] Successfully loaded!\n",
            "[2022-03-04 23:46:22,915][INFO] Current `lod` is 0.0.\n",
            "[2022-03-04 23:46:22,915][INFO] Build network for module `encoder` in model `styleganinv_ffhq256`.\n",
            "[2022-03-04 23:46:24,310][INFO] Loading pytorch weights from `TediGAN/base/models/pretrain/styleganinv_ffhq256_encoder.pth`.\n",
            "[2022-03-04 23:46:26,143][INFO] Successfully loaded!\n",
            "loss_pix: 0.017, loss_feat: 1646.133, loss_reg: 0.015, loss_clip: 0.685, loss: 0.813: 100% 200/200 [02:20<00:00,  1.43it/s]\n",
            "save 142 in results/inversion/test\n"
          ]
        }
      ]
    },
    {
      "cell_type": "code",
      "source": [
        "# import shutil\n",
        "# shutil.copy(\"/content/TediGAN/\", \"/content/drive/MyDrive/\")"
      ],
      "metadata": {
        "id": "adxmL7WASXjt"
      },
      "execution_count": null,
      "outputs": []
    }
  ]
}